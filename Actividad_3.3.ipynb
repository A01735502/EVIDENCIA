{
 "cells": [
  {
   "cell_type": "code",
   "execution_count": 29,
   "id": "f6b2aca0",
   "metadata": {},
   "outputs": [],
   "source": [
    "import pandas as pd\n",
    "import numpy as np\n",
    "import matplotlib.pyplot as plt\n",
    "import re"
   ]
  },
  {
   "cell_type": "code",
   "execution_count": 30,
   "id": "26072969",
   "metadata": {},
   "outputs": [
    {
     "name": "stdout",
     "output_type": "stream",
     "text": [
      "<class 'pandas.core.frame.DataFrame'>\n",
      "RangeIndex: 36322 entries, 0 to 36321\n",
      "Data columns (total 52 columns):\n",
      " #   Column                                        Non-Null Count  Dtype  \n",
      "---  ------                                        --------------  -----  \n",
      " 0   Unnamed: 0                                    36322 non-null  int64  \n",
      " 1   host_response_time                            21550 non-null  object \n",
      " 2   host_response_rate                            21550 non-null  object \n",
      " 3   host_acceptance_rate                          21720 non-null  object \n",
      " 4   host_is_superhost                             35830 non-null  object \n",
      " 5   host_location                                 28913 non-null  object \n",
      " 6   host_has_profile_pic                          36307 non-null  object \n",
      " 7   host_identity_verified                        36307 non-null  object \n",
      " 8   neighbourhood_cleansed                        36322 non-null  object \n",
      " 9   latitude                                      36322 non-null  float64\n",
      " 10  longitude                                     36322 non-null  float64\n",
      " 11  property_type                                 36322 non-null  object \n",
      " 12  room_type                                     36322 non-null  object \n",
      " 13  accommodates                                  36322 non-null  int64  \n",
      " 14  bathrooms                                     21682 non-null  float64\n",
      " 15  bathrooms_text                                36286 non-null  object \n",
      " 16  bedrooms                                      30274 non-null  float64\n",
      " 17  beds                                          21620 non-null  float64\n",
      " 18  price                                         21459 non-null  object \n",
      " 19  minimum_nights                                36322 non-null  int64  \n",
      " 20  maximum_nights                                36322 non-null  int64  \n",
      " 21  minimum_minimum_nights                        36322 non-null  int64  \n",
      " 22  maximum_minimum_nights                        36322 non-null  int64  \n",
      " 23  minimum_maximum_nights                        36322 non-null  int64  \n",
      " 24  maximum_maximum_nights                        36322 non-null  int64  \n",
      " 25  minimum_nights_avg_ntm                        36322 non-null  float64\n",
      " 26  maximum_nights_avg_ntm                        36322 non-null  float64\n",
      " 27  availability_30                               36322 non-null  int64  \n",
      " 28  availability_60                               36322 non-null  int64  \n",
      " 29  availability_90                               36322 non-null  int64  \n",
      " 30  availability_365                              36322 non-null  int64  \n",
      " 31  number_of_reviews                             36322 non-null  int64  \n",
      " 32  number_of_reviews_ltm                         36322 non-null  int64  \n",
      " 33  number_of_reviews_l30d                        36322 non-null  int64  \n",
      " 34  number_of_reviews_ly                          36322 non-null  int64  \n",
      " 35  estimated_occupancy_l365d                     36322 non-null  int64  \n",
      " 36  estimated_revenue_l365d                       21459 non-null  float64\n",
      " 37  review_scores_rating                          25171 non-null  float64\n",
      " 38  review_scores_accuracy                        25161 non-null  float64\n",
      " 39  review_scores_cleanliness                     25170 non-null  float64\n",
      " 40  review_scores_checkin                         25157 non-null  float64\n",
      " 41  review_scores_communication                   25165 non-null  float64\n",
      " 42  review_scores_location                        25154 non-null  float64\n",
      " 43  review_scores_value                           25155 non-null  float64\n",
      " 44  calculated_host_listings_count                36322 non-null  int64  \n",
      " 45  calculated_host_listings_count_entire_homes   36322 non-null  int64  \n",
      " 46  calculated_host_listings_count_private_rooms  36322 non-null  int64  \n",
      " 47  calculated_host_listings_count_shared_rooms   36322 non-null  int64  \n",
      " 48  reviews_per_month                             25171 non-null  float64\n",
      " 49  amenities                                     36322 non-null  object \n",
      " 50  has_availability                              30705 non-null  object \n",
      " 51  instant_bookable                              36322 non-null  object \n",
      "dtypes: float64(16), int64(21), object(15)\n",
      "memory usage: 14.4+ MB\n",
      "None\n"
     ]
    }
   ],
   "source": [
    "df = pd.read_csv('Newyorkfiltrado.csv')\n",
    "print(df.info())"
   ]
  },
  {
   "cell_type": "code",
   "execution_count": 31,
   "id": "299823d2",
   "metadata": {},
   "outputs": [
    {
     "data": {
      "text/plain": [
       "Unnamed: 0                                          0\n",
       "host_response_time                              14772\n",
       "host_response_rate                              14772\n",
       "host_acceptance_rate                            14602\n",
       "host_is_superhost                                 492\n",
       "host_location                                    7409\n",
       "host_has_profile_pic                               15\n",
       "host_identity_verified                             15\n",
       "neighbourhood_cleansed                              0\n",
       "latitude                                            0\n",
       "longitude                                           0\n",
       "property_type                                       0\n",
       "room_type                                           0\n",
       "accommodates                                        0\n",
       "bathrooms                                       14640\n",
       "bathrooms_text                                     36\n",
       "bedrooms                                         6048\n",
       "beds                                            14702\n",
       "price                                           14863\n",
       "minimum_nights                                      0\n",
       "maximum_nights                                      0\n",
       "minimum_minimum_nights                              0\n",
       "maximum_minimum_nights                              0\n",
       "minimum_maximum_nights                              0\n",
       "maximum_maximum_nights                              0\n",
       "minimum_nights_avg_ntm                              0\n",
       "maximum_nights_avg_ntm                              0\n",
       "availability_30                                     0\n",
       "availability_60                                     0\n",
       "availability_90                                     0\n",
       "availability_365                                    0\n",
       "number_of_reviews                                   0\n",
       "number_of_reviews_ltm                               0\n",
       "number_of_reviews_l30d                              0\n",
       "number_of_reviews_ly                                0\n",
       "estimated_occupancy_l365d                           0\n",
       "estimated_revenue_l365d                         14863\n",
       "review_scores_rating                            11151\n",
       "review_scores_accuracy                          11161\n",
       "review_scores_cleanliness                       11152\n",
       "review_scores_checkin                           11165\n",
       "review_scores_communication                     11157\n",
       "review_scores_location                          11168\n",
       "review_scores_value                             11167\n",
       "calculated_host_listings_count                      0\n",
       "calculated_host_listings_count_entire_homes         0\n",
       "calculated_host_listings_count_private_rooms        0\n",
       "calculated_host_listings_count_shared_rooms         0\n",
       "reviews_per_month                               11151\n",
       "amenities                                           0\n",
       "has_availability                                 5617\n",
       "instant_bookable                                    0\n",
       "dtype: int64"
      ]
     },
     "execution_count": 31,
     "metadata": {},
     "output_type": "execute_result"
    }
   ],
   "source": [
    "valores_nulos=df.isnull().sum()\n",
    "valores_nulos"
   ]
  },
  {
   "cell_type": "code",
   "execution_count": 32,
   "id": "ede4169d",
   "metadata": {},
   "outputs": [
    {
     "data": {
      "text/plain": [
       "Unnamed: 0                                          0\n",
       "host_response_time                              14772\n",
       "host_response_rate                              14772\n",
       "host_acceptance_rate                            14602\n",
       "host_is_superhost                                 492\n",
       "host_location                                    7409\n",
       "host_has_profile_pic                               15\n",
       "host_identity_verified                             15\n",
       "neighbourhood_cleansed                              0\n",
       "latitude                                            0\n",
       "longitude                                           0\n",
       "property_type                                       0\n",
       "room_type                                           0\n",
       "accommodates                                        0\n",
       "bathrooms                                       14640\n",
       "bathrooms_text                                     36\n",
       "bedrooms                                         6048\n",
       "beds                                            14702\n",
       "price                                           14863\n",
       "minimum_nights                                      0\n",
       "maximum_nights                                      0\n",
       "minimum_minimum_nights                              0\n",
       "maximum_minimum_nights                              0\n",
       "minimum_maximum_nights                              0\n",
       "maximum_maximum_nights                              0\n",
       "minimum_nights_avg_ntm                              0\n",
       "maximum_nights_avg_ntm                              0\n",
       "availability_30                                     0\n",
       "availability_60                                     0\n",
       "availability_90                                     0\n",
       "availability_365                                    0\n",
       "number_of_reviews                                   0\n",
       "number_of_reviews_ltm                               0\n",
       "number_of_reviews_l30d                              0\n",
       "number_of_reviews_ly                                0\n",
       "estimated_occupancy_l365d                           0\n",
       "estimated_revenue_l365d                         14863\n",
       "review_scores_rating                            11151\n",
       "review_scores_accuracy                          11161\n",
       "review_scores_cleanliness                       11152\n",
       "review_scores_checkin                           11165\n",
       "review_scores_communication                     11157\n",
       "review_scores_location                          11168\n",
       "review_scores_value                             11167\n",
       "calculated_host_listings_count                      0\n",
       "calculated_host_listings_count_entire_homes         0\n",
       "calculated_host_listings_count_private_rooms        0\n",
       "calculated_host_listings_count_shared_rooms         0\n",
       "reviews_per_month                               11151\n",
       "amenities                                           0\n",
       "has_availability                                 5617\n",
       "instant_bookable                                    0\n",
       "dtype: int64"
      ]
     },
     "execution_count": 32,
     "metadata": {},
     "output_type": "execute_result"
    }
   ],
   "source": [
    "#Se crea una copia del df para trabajar en ella\n",
    "df2 = pd.read_csv('Newyorkfiltrado.csv')\n",
    "valores_nulos=df2.isnull().sum()\n",
    "valores_nulos"
   ]
  },
  {
   "cell_type": "code",
   "execution_count": 33,
   "id": "2a985748",
   "metadata": {},
   "outputs": [],
   "source": [
    "#Se llenaron los valores nulos de host location por \"Unknown\"\n",
    "df2[\"host_location\"] =df2[\"host_location\"].fillna(\"Unknown\") "
   ]
  },
  {
   "cell_type": "code",
   "execution_count": 34,
   "id": "3c619b96",
   "metadata": {},
   "outputs": [
    {
     "name": "stdout",
     "output_type": "stream",
     "text": [
      "0      80.0\n",
      "1      24.0\n",
      "2     100.0\n",
      "3     100.0\n",
      "4      33.0\n",
      "5      86.0\n",
      "6       0.0\n",
      "7     100.0\n",
      "8      25.0\n",
      "9      89.0\n",
      "10     89.0\n",
      "11    100.0\n",
      "12     69.0\n",
      "13     89.0\n",
      "14    100.0\n",
      "Name: host_acceptance_rate, dtype: float64\n"
     ]
    },
    {
     "name": "stderr",
     "output_type": "stream",
     "text": [
      "C:\\Users\\jaque\\AppData\\Local\\Temp\\ipykernel_19192\\3743117585.py:9: FutureWarning: A value is trying to be set on a copy of a DataFrame or Series through chained assignment using an inplace method.\n",
      "The behavior will change in pandas 3.0. This inplace method will never work because the intermediate object on which we are setting values always behaves as a copy.\n",
      "\n",
      "For example, when doing 'df[col].method(value, inplace=True)', try using 'df.method({col: value}, inplace=True)' or df[col] = df[col].method(value) instead, to perform the operation inplace on the original object.\n",
      "\n",
      "\n",
      "  df2[\"host_acceptance_rate\"].fillna(round(df2[\"host_acceptance_rate\"].median(),1), inplace=True)\n"
     ]
    }
   ],
   "source": [
    "#limpiar porcentaje\n",
    "df2['host_acceptance_rate'] = df2['host_acceptance_rate'].astype(str)\n",
    "df2[\"host_acceptance_rate\"] = df2[\"host_acceptance_rate\"].str.replace(\"%\", \" \" )\n",
    "\n",
    "#Inmuebles['Columna']=Inmuebles['Columna'].str.replace('o', '0')\n",
    "\n",
    "#Se convierte la variable a tipo numerica y se rellenan valores con la mediana para no generar desviaciones en los datos generales\n",
    "df2[\"host_acceptance_rate\"] = df2[\"host_acceptance_rate\"].astype(float)\n",
    "df2[\"host_acceptance_rate\"].fillna(round(df2[\"host_acceptance_rate\"].median(),1), inplace=True)\n",
    "print(df2[\"host_acceptance_rate\"].head(15))"
   ]
  },
  {
   "cell_type": "code",
   "execution_count": 35,
   "id": "1cf9d4c3",
   "metadata": {},
   "outputs": [
    {
     "data": {
      "text/plain": [
       "Unnamed: 0                                          0\n",
       "host_response_time                              14772\n",
       "host_response_rate                              14772\n",
       "host_acceptance_rate                                0\n",
       "host_is_superhost                                 492\n",
       "host_location                                       0\n",
       "host_has_profile_pic                               15\n",
       "host_identity_verified                             15\n",
       "neighbourhood_cleansed                              0\n",
       "latitude                                            0\n",
       "longitude                                           0\n",
       "property_type                                       0\n",
       "room_type                                           0\n",
       "accommodates                                        0\n",
       "bathrooms                                       14640\n",
       "bathrooms_text                                     36\n",
       "bedrooms                                         6048\n",
       "beds                                            14702\n",
       "price                                           14863\n",
       "minimum_nights                                      0\n",
       "maximum_nights                                      0\n",
       "minimum_minimum_nights                              0\n",
       "maximum_minimum_nights                              0\n",
       "minimum_maximum_nights                              0\n",
       "maximum_maximum_nights                              0\n",
       "minimum_nights_avg_ntm                              0\n",
       "maximum_nights_avg_ntm                              0\n",
       "availability_30                                     0\n",
       "availability_60                                     0\n",
       "availability_90                                     0\n",
       "availability_365                                    0\n",
       "number_of_reviews                                   0\n",
       "number_of_reviews_ltm                               0\n",
       "number_of_reviews_l30d                              0\n",
       "number_of_reviews_ly                                0\n",
       "estimated_occupancy_l365d                           0\n",
       "estimated_revenue_l365d                         14863\n",
       "review_scores_rating                            11151\n",
       "review_scores_accuracy                          11161\n",
       "review_scores_cleanliness                       11152\n",
       "review_scores_checkin                           11165\n",
       "review_scores_communication                     11157\n",
       "review_scores_location                          11168\n",
       "review_scores_value                             11167\n",
       "calculated_host_listings_count                      0\n",
       "calculated_host_listings_count_entire_homes         0\n",
       "calculated_host_listings_count_private_rooms        0\n",
       "calculated_host_listings_count_shared_rooms         0\n",
       "reviews_per_month                               11151\n",
       "amenities                                           0\n",
       "has_availability                                 5617\n",
       "instant_bookable                                    0\n",
       "dtype: int64"
      ]
     },
     "execution_count": 35,
     "metadata": {},
     "output_type": "execute_result"
    }
   ],
   "source": [
    "valores_nulos=df2.isnull().sum()\n",
    "valores_nulos"
   ]
  },
  {
   "cell_type": "code",
   "execution_count": 36,
   "id": "dbfb7cb3",
   "metadata": {},
   "outputs": [],
   "source": [
    "#Se llenaron los valores nulos de host is superhost por false al no tener información\n",
    "df2[\"host_is_superhost\"] =df2[\"host_is_superhost\"].fillna(\"f\") "
   ]
  },
  {
   "cell_type": "code",
   "execution_count": 37,
   "id": "4047f1f6",
   "metadata": {},
   "outputs": [
    {
     "data": {
      "text/plain": [
       "Unnamed: 0                                          0\n",
       "host_response_time                              14772\n",
       "host_response_rate                              14772\n",
       "host_acceptance_rate                                0\n",
       "host_is_superhost                                   0\n",
       "host_location                                       0\n",
       "host_has_profile_pic                               15\n",
       "host_identity_verified                             15\n",
       "neighbourhood_cleansed                              0\n",
       "latitude                                            0\n",
       "longitude                                           0\n",
       "property_type                                       0\n",
       "room_type                                           0\n",
       "accommodates                                        0\n",
       "bathrooms                                       14640\n",
       "bathrooms_text                                     36\n",
       "bedrooms                                         6048\n",
       "beds                                            14702\n",
       "price                                           14863\n",
       "minimum_nights                                      0\n",
       "maximum_nights                                      0\n",
       "minimum_minimum_nights                              0\n",
       "maximum_minimum_nights                              0\n",
       "minimum_maximum_nights                              0\n",
       "maximum_maximum_nights                              0\n",
       "minimum_nights_avg_ntm                              0\n",
       "maximum_nights_avg_ntm                              0\n",
       "availability_30                                     0\n",
       "availability_60                                     0\n",
       "availability_90                                     0\n",
       "availability_365                                    0\n",
       "number_of_reviews                                   0\n",
       "number_of_reviews_ltm                               0\n",
       "number_of_reviews_l30d                              0\n",
       "number_of_reviews_ly                                0\n",
       "estimated_occupancy_l365d                           0\n",
       "estimated_revenue_l365d                         14863\n",
       "review_scores_rating                            11151\n",
       "review_scores_accuracy                          11161\n",
       "review_scores_cleanliness                       11152\n",
       "review_scores_checkin                           11165\n",
       "review_scores_communication                     11157\n",
       "review_scores_location                          11168\n",
       "review_scores_value                             11167\n",
       "calculated_host_listings_count                      0\n",
       "calculated_host_listings_count_entire_homes         0\n",
       "calculated_host_listings_count_private_rooms        0\n",
       "calculated_host_listings_count_shared_rooms         0\n",
       "reviews_per_month                               11151\n",
       "amenities                                           0\n",
       "has_availability                                 5617\n",
       "instant_bookable                                    0\n",
       "dtype: int64"
      ]
     },
     "execution_count": 37,
     "metadata": {},
     "output_type": "execute_result"
    }
   ],
   "source": [
    "valores_nulos=df2.isnull().sum()\n",
    "valores_nulos"
   ]
  },
  {
   "cell_type": "code",
   "execution_count": 38,
   "id": "643ee59f",
   "metadata": {},
   "outputs": [],
   "source": [
    "#Si el host no tienen foto de perfil o no está verificado, se les asigna false\n",
    "df2[[\"host_has_profile_pic\", \"host_identity_verified\"]] = df2[[\"host_has_profile_pic\", \"host_identity_verified\"]].fillna(\"f\") "
   ]
  },
  {
   "cell_type": "code",
   "execution_count": 39,
   "id": "dfecff46",
   "metadata": {},
   "outputs": [
    {
     "name": "stdout",
     "output_type": "stream",
     "text": [
      "0     within a few hours\n",
      "1     within a few hours\n",
      "2                Unknown\n",
      "3         within an hour\n",
      "4           within a day\n",
      "5         within an hour\n",
      "6     a few days or more\n",
      "7         within an hour\n",
      "8         within an hour\n",
      "9                Unknown\n",
      "10               Unknown\n",
      "11        within an hour\n",
      "12    within a few hours\n",
      "13               Unknown\n",
      "14    within a few hours\n",
      "Name: host_response_time, dtype: object\n"
     ]
    }
   ],
   "source": [
    "#No hay información sobre el tiempo de respuesta del anfitrión\n",
    "df2[\"host_response_time\"] =df2[\"host_response_time\"].fillna(\"Unknown\") \n",
    "\n",
    "print(df2[\"host_response_time\"].head(15))\n"
   ]
  },
  {
   "cell_type": "code",
   "execution_count": 40,
   "id": "78fddd89",
   "metadata": {},
   "outputs": [
    {
     "name": "stdout",
     "output_type": "stream",
     "text": [
      "0     100.0\n",
      "1      94.0\n",
      "2       0.0\n",
      "3     100.0\n",
      "4      91.0\n",
      "5     100.0\n",
      "6       0.0\n",
      "7     100.0\n",
      "8     100.0\n",
      "9       0.0\n",
      "10      0.0\n",
      "11    100.0\n",
      "12    100.0\n",
      "13      0.0\n",
      "14    100.0\n",
      "Name: host_response_rate, dtype: float64\n"
     ]
    }
   ],
   "source": [
    "# Convertimos a string\n",
    "df2[\"host_response_rate\"] = df2[\"host_response_rate\"].astype(str)\n",
    "\n",
    "# Quitamos el símbolo %\n",
    "df2[\"host_response_rate\"] = df2[\"host_response_rate\"].str.replace(\"%\", \"\", regex=False)\n",
    "\n",
    "# Reemplazamos strings vacíos o \"nan\" por NaN real\n",
    "df2[\"host_response_rate\"] = df2[\"host_response_rate\"].replace([\" \", \"nan\", \"NaN\", \"\"], np.nan)\n",
    "\n",
    "# Convertimos a float\n",
    "df2[\"host_response_rate\"] = df2[\"host_response_rate\"].astype(float)\n",
    "\n",
    "# Rellenamos nulos con 0\n",
    "df2[\"host_response_rate\"] = df2[\"host_response_rate\"].fillna(0)\n",
    "print(df2[\"host_response_rate\"].head(15))\n"
   ]
  },
  {
   "cell_type": "code",
   "execution_count": 41,
   "id": "00e53122",
   "metadata": {},
   "outputs": [
    {
     "data": {
      "text/plain": [
       "Unnamed: 0                                          0\n",
       "host_response_time                                  0\n",
       "host_response_rate                                  0\n",
       "host_acceptance_rate                                0\n",
       "host_is_superhost                                   0\n",
       "host_location                                       0\n",
       "host_has_profile_pic                                0\n",
       "host_identity_verified                              0\n",
       "neighbourhood_cleansed                              0\n",
       "latitude                                            0\n",
       "longitude                                           0\n",
       "property_type                                       0\n",
       "room_type                                           0\n",
       "accommodates                                        0\n",
       "bathrooms                                       14640\n",
       "bathrooms_text                                     36\n",
       "bedrooms                                         6048\n",
       "beds                                            14702\n",
       "price                                           14863\n",
       "minimum_nights                                      0\n",
       "maximum_nights                                      0\n",
       "minimum_minimum_nights                              0\n",
       "maximum_minimum_nights                              0\n",
       "minimum_maximum_nights                              0\n",
       "maximum_maximum_nights                              0\n",
       "minimum_nights_avg_ntm                              0\n",
       "maximum_nights_avg_ntm                              0\n",
       "availability_30                                     0\n",
       "availability_60                                     0\n",
       "availability_90                                     0\n",
       "availability_365                                    0\n",
       "number_of_reviews                                   0\n",
       "number_of_reviews_ltm                               0\n",
       "number_of_reviews_l30d                              0\n",
       "number_of_reviews_ly                                0\n",
       "estimated_occupancy_l365d                           0\n",
       "estimated_revenue_l365d                         14863\n",
       "review_scores_rating                            11151\n",
       "review_scores_accuracy                          11161\n",
       "review_scores_cleanliness                       11152\n",
       "review_scores_checkin                           11165\n",
       "review_scores_communication                     11157\n",
       "review_scores_location                          11168\n",
       "review_scores_value                             11167\n",
       "calculated_host_listings_count                      0\n",
       "calculated_host_listings_count_entire_homes         0\n",
       "calculated_host_listings_count_private_rooms        0\n",
       "calculated_host_listings_count_shared_rooms         0\n",
       "reviews_per_month                               11151\n",
       "amenities                                           0\n",
       "has_availability                                 5617\n",
       "instant_bookable                                    0\n",
       "dtype: int64"
      ]
     },
     "execution_count": 41,
     "metadata": {},
     "output_type": "execute_result"
    }
   ],
   "source": [
    "valores_nulos=df2.isnull().sum()\n",
    "valores_nulos"
   ]
  },
  {
   "cell_type": "code",
   "execution_count": 42,
   "id": "c7e7b014",
   "metadata": {},
   "outputs": [],
   "source": [
    "#Se limpia la variable de bathrooms_text\n",
    "def parse_bathrooms_text(s):\n",
    "    return 0.5 if isinstance(s, str) and \"half\" in s.lower() else (\n",
    "        float(re.search(r\"\\d+(\\.\\d+)?\", str(s)).group()) if pd.notna(s) and re.search(r\"\\d+(\\.\\d+)?\", str(s)) else np.nan\n",
    "    )\n"
   ]
  },
  {
   "cell_type": "code",
   "execution_count": 43,
   "id": "efdf7fe1",
   "metadata": {},
   "outputs": [
    {
     "data": {
      "text/plain": [
       "0        1.0\n",
       "1        1.0\n",
       "2        1.5\n",
       "3        1.0\n",
       "4        1.0\n",
       "        ... \n",
       "36317    1.0\n",
       "36318    1.0\n",
       "36319    1.0\n",
       "36320    2.0\n",
       "36321    1.0\n",
       "Name: bathrooms_text, Length: 36322, dtype: float64"
      ]
     },
     "execution_count": 43,
     "metadata": {},
     "output_type": "execute_result"
    }
   ],
   "source": [
    "#Se rellena la variable de bathrooms con el numero en bathrooms text y se elimina bathrooms_text\n",
    "banos = df2[\"bathrooms_text\"].apply(parse_bathrooms_text)\n",
    "df2[\"bathrooms\"] = df2[\"bathrooms\"].fillna(banos)\n",
    "df2 = df2.drop(columns=[\"bathrooms_text\"])\n",
    "banos"
   ]
  },
  {
   "cell_type": "code",
   "execution_count": 44,
   "id": "f7b44727",
   "metadata": {},
   "outputs": [],
   "source": [
    "# Se rellenan los valores nulos de bathrooms con \"1\" ya que es el minimo de banos que puede haber\n",
    "df2[\"bathrooms\"] =df2[\"bathrooms\"].fillna(\"1\") "
   ]
  },
  {
   "cell_type": "code",
   "execution_count": 45,
   "id": "d466559b",
   "metadata": {},
   "outputs": [],
   "source": [
    "# Se rellenan los valores nulos de beds y bedrooms con la mediana\n",
    "df2[\"beds\"] = df2[\"beds\"].fillna(df2[\"beds\"].median()) \n",
    "df2[\"bedrooms\"] = df2[\"bedrooms\"].fillna(df2[\"bedrooms\"].median())"
   ]
  },
  {
   "cell_type": "code",
   "execution_count": 46,
   "id": "9fc68009",
   "metadata": {},
   "outputs": [
    {
     "data": {
      "text/plain": [
       "Unnamed: 0                                          0\n",
       "host_response_time                                  0\n",
       "host_response_rate                                  0\n",
       "host_acceptance_rate                                0\n",
       "host_is_superhost                                   0\n",
       "host_location                                       0\n",
       "host_has_profile_pic                                0\n",
       "host_identity_verified                              0\n",
       "neighbourhood_cleansed                              0\n",
       "latitude                                            0\n",
       "longitude                                           0\n",
       "property_type                                       0\n",
       "room_type                                           0\n",
       "accommodates                                        0\n",
       "bathrooms                                           0\n",
       "bedrooms                                            0\n",
       "beds                                                0\n",
       "price                                           14863\n",
       "minimum_nights                                      0\n",
       "maximum_nights                                      0\n",
       "minimum_minimum_nights                              0\n",
       "maximum_minimum_nights                              0\n",
       "minimum_maximum_nights                              0\n",
       "maximum_maximum_nights                              0\n",
       "minimum_nights_avg_ntm                              0\n",
       "maximum_nights_avg_ntm                              0\n",
       "availability_30                                     0\n",
       "availability_60                                     0\n",
       "availability_90                                     0\n",
       "availability_365                                    0\n",
       "number_of_reviews                                   0\n",
       "number_of_reviews_ltm                               0\n",
       "number_of_reviews_l30d                              0\n",
       "number_of_reviews_ly                                0\n",
       "estimated_occupancy_l365d                           0\n",
       "estimated_revenue_l365d                         14863\n",
       "review_scores_rating                            11151\n",
       "review_scores_accuracy                          11161\n",
       "review_scores_cleanliness                       11152\n",
       "review_scores_checkin                           11165\n",
       "review_scores_communication                     11157\n",
       "review_scores_location                          11168\n",
       "review_scores_value                             11167\n",
       "calculated_host_listings_count                      0\n",
       "calculated_host_listings_count_entire_homes         0\n",
       "calculated_host_listings_count_private_rooms        0\n",
       "calculated_host_listings_count_shared_rooms         0\n",
       "reviews_per_month                               11151\n",
       "amenities                                           0\n",
       "has_availability                                 5617\n",
       "instant_bookable                                    0\n",
       "dtype: int64"
      ]
     },
     "execution_count": 46,
     "metadata": {},
     "output_type": "execute_result"
    }
   ],
   "source": [
    "valores_nulos=df2.isnull().sum()\n",
    "valores_nulos"
   ]
  },
  {
   "cell_type": "code",
   "execution_count": 47,
   "id": "5dcc6851",
   "metadata": {},
   "outputs": [
    {
     "name": "stdout",
     "output_type": "stream",
     "text": [
      "Promedio por room_type:\n",
      "          room_type         price\n",
      "0  Entire home/apt    306.338406\n",
      "1       Hotel room  27577.795349\n",
      "2     Private room    167.778610\n",
      "3      Shared room    135.478571\n",
      "         room_type bathrooms       price\n",
      "0  Entire home/apt       0.0  228.733333\n",
      "1  Entire home/apt       0.5  706.312500\n",
      "2  Entire home/apt       1.0  251.322302\n",
      "3  Entire home/apt       1.5  335.876963\n",
      "4  Entire home/apt       2.0  499.479226\n",
      "         room_type  bedrooms       price\n",
      "0  Entire home/apt       0.0  229.269468\n",
      "1  Entire home/apt       1.0  266.616372\n",
      "2  Entire home/apt       2.0  329.416958\n",
      "3  Entire home/apt       3.0  401.047203\n",
      "4  Entire home/apt       4.0  601.824742\n",
      "NaN en price: 25\n"
     ]
    }
   ],
   "source": [
    "# Se llenan los valores nulos de price con el promedio por grupo (room_type, bathrooms y bedrooms)\n",
    "df2[\"price\"] = df2[\"price\"].replace(r'[\\$,]', '', regex=True).astype(float)\n",
    "\n",
    "prom_por_tipo = df2.groupby(\"room_type\")[\"price\"].mean().reset_index()\n",
    "print(\"Promedio por room_type:\\n\", prom_por_tipo)\n",
    "\n",
    "prom_por_tipo_bath = (\n",
    "    df2.groupby([\"room_type\", \"bathrooms\"], dropna=False)[\"price\"]\n",
    "      .mean()\n",
    "      .reset_index()\n",
    ")\n",
    "print(prom_por_tipo_bath.head())\n",
    "\n",
    "prom_por_tipo_bed = (\n",
    "    df2.groupby([\"room_type\", \"bedrooms\"], dropna=False)[\"price\"]\n",
    "      .mean()\n",
    "      .reset_index()\n",
    ")\n",
    "print(prom_por_tipo_bed.head())\n",
    "\n",
    "\n",
    "df2[\"price\"] = df2[\"price\"].fillna(\n",
    "    df2.groupby([\"room_type\",\"bathrooms\", \"bedrooms\"])[\"price\"].transform(\"mean\")\n",
    ")\n",
    "\n",
    "print(\"NaN en price:\", df2[\"price\"].isna().sum())\n"
   ]
  },
  {
   "cell_type": "code",
   "execution_count": 48,
   "id": "844663eb",
   "metadata": {},
   "outputs": [],
   "source": [
    "#Los ultimos valores se rellenaron solamnete con el room_type al no poderse promediar con las demas variables\n",
    "df2[\"price\"] = df2[\"price\"].fillna(\n",
    "    df2.groupby(\"room_type\")[\"price\"].transform(\"mean\")\n",
    ")"
   ]
  },
  {
   "cell_type": "code",
   "execution_count": 49,
   "id": "6ed840c1",
   "metadata": {},
   "outputs": [
    {
     "data": {
      "text/plain": [
       "Unnamed: 0                                          0\n",
       "host_response_time                                  0\n",
       "host_response_rate                                  0\n",
       "host_acceptance_rate                                0\n",
       "host_is_superhost                                   0\n",
       "host_location                                       0\n",
       "host_has_profile_pic                                0\n",
       "host_identity_verified                              0\n",
       "neighbourhood_cleansed                              0\n",
       "latitude                                            0\n",
       "longitude                                           0\n",
       "property_type                                       0\n",
       "room_type                                           0\n",
       "accommodates                                        0\n",
       "bathrooms                                           0\n",
       "bedrooms                                            0\n",
       "beds                                                0\n",
       "price                                               0\n",
       "minimum_nights                                      0\n",
       "maximum_nights                                      0\n",
       "minimum_minimum_nights                              0\n",
       "maximum_minimum_nights                              0\n",
       "minimum_maximum_nights                              0\n",
       "maximum_maximum_nights                              0\n",
       "minimum_nights_avg_ntm                              0\n",
       "maximum_nights_avg_ntm                              0\n",
       "availability_30                                     0\n",
       "availability_60                                     0\n",
       "availability_90                                     0\n",
       "availability_365                                    0\n",
       "number_of_reviews                                   0\n",
       "number_of_reviews_ltm                               0\n",
       "number_of_reviews_l30d                              0\n",
       "number_of_reviews_ly                                0\n",
       "estimated_occupancy_l365d                           0\n",
       "estimated_revenue_l365d                         14863\n",
       "review_scores_rating                            11151\n",
       "review_scores_accuracy                          11161\n",
       "review_scores_cleanliness                       11152\n",
       "review_scores_checkin                           11165\n",
       "review_scores_communication                     11157\n",
       "review_scores_location                          11168\n",
       "review_scores_value                             11167\n",
       "calculated_host_listings_count                      0\n",
       "calculated_host_listings_count_entire_homes         0\n",
       "calculated_host_listings_count_private_rooms        0\n",
       "calculated_host_listings_count_shared_rooms         0\n",
       "reviews_per_month                               11151\n",
       "amenities                                           0\n",
       "has_availability                                 5617\n",
       "instant_bookable                                    0\n",
       "dtype: int64"
      ]
     },
     "execution_count": 49,
     "metadata": {},
     "output_type": "execute_result"
    }
   ],
   "source": [
    "valores_nulos=df2.isnull().sum()\n",
    "valores_nulos"
   ]
  },
  {
   "cell_type": "code",
   "execution_count": 50,
   "id": "61911040",
   "metadata": {},
   "outputs": [
    {
     "name": "stdout",
     "output_type": "stream",
     "text": [
      "   estimated_occupancy_l365d       price  estimated_revenue_l365d\n",
      "0                          0  285.000000                     0.00\n",
      "1                          0  240.000000                     0.00\n",
      "2                          0  215.000000                     0.00\n",
      "3                        240   97.000000                   232.80\n",
      "4                          0  173.670007                     0.00\n",
      "5                        255   63.000000                   160.65\n",
      "6                          0  173.670007                     0.00\n",
      "7                        255  246.000000                   627.30\n",
      "8                          0  223.000000                     0.00\n",
      "9                          0  262.735655                     0.00\n"
     ]
    }
   ],
   "source": [
    "# Se limpia price y se realiza una regla de tres en donde si la ocupacion < 0 se multiplica por price y su ocupacion es 0 se queda igual \n",
    "df2[\"price\"] = df2[\"price\"].replace(r\"[\\$,]\", \"\", regex=True).astype(float)\n",
    "ocupacion = pd.to_numeric(df2[\"estimated_occupancy_l365d\"].astype(str).str.rstrip(\"%\"), errors=\"coerce\")\n",
    "ocupacion = np.where(ocupacion > 1, ocupacion / 100, ocupacion)\n",
    "\n",
    "df2[\"estimated_revenue_l365d\"] = np.where(ocupacion == 0, 0, ocupacion * df2[\"price\"])\n",
    "print(df2[[\"estimated_occupancy_l365d\", \"price\", \"estimated_revenue_l365d\"]].head(10))"
   ]
  },
  {
   "cell_type": "code",
   "execution_count": 51,
   "id": "0b312abc",
   "metadata": {},
   "outputs": [
    {
     "data": {
      "text/plain": [
       "Unnamed: 0                                          0\n",
       "host_response_time                                  0\n",
       "host_response_rate                                  0\n",
       "host_acceptance_rate                                0\n",
       "host_is_superhost                                   0\n",
       "host_location                                       0\n",
       "host_has_profile_pic                                0\n",
       "host_identity_verified                              0\n",
       "neighbourhood_cleansed                              0\n",
       "latitude                                            0\n",
       "longitude                                           0\n",
       "property_type                                       0\n",
       "room_type                                           0\n",
       "accommodates                                        0\n",
       "bathrooms                                           0\n",
       "bedrooms                                            0\n",
       "beds                                                0\n",
       "price                                               0\n",
       "minimum_nights                                      0\n",
       "maximum_nights                                      0\n",
       "minimum_minimum_nights                              0\n",
       "maximum_minimum_nights                              0\n",
       "minimum_maximum_nights                              0\n",
       "maximum_maximum_nights                              0\n",
       "minimum_nights_avg_ntm                              0\n",
       "maximum_nights_avg_ntm                              0\n",
       "availability_30                                     0\n",
       "availability_60                                     0\n",
       "availability_90                                     0\n",
       "availability_365                                    0\n",
       "number_of_reviews                                   0\n",
       "number_of_reviews_ltm                               0\n",
       "number_of_reviews_l30d                              0\n",
       "number_of_reviews_ly                                0\n",
       "estimated_occupancy_l365d                           0\n",
       "estimated_revenue_l365d                             0\n",
       "review_scores_rating                            11151\n",
       "review_scores_accuracy                          11161\n",
       "review_scores_cleanliness                       11152\n",
       "review_scores_checkin                           11165\n",
       "review_scores_communication                     11157\n",
       "review_scores_location                          11168\n",
       "review_scores_value                             11167\n",
       "calculated_host_listings_count                      0\n",
       "calculated_host_listings_count_entire_homes         0\n",
       "calculated_host_listings_count_private_rooms        0\n",
       "calculated_host_listings_count_shared_rooms         0\n",
       "reviews_per_month                               11151\n",
       "amenities                                           0\n",
       "has_availability                                 5617\n",
       "instant_bookable                                    0\n",
       "dtype: int64"
      ]
     },
     "execution_count": 51,
     "metadata": {},
     "output_type": "execute_result"
    }
   ],
   "source": [
    "valores_nulos=df2.isnull().sum()\n",
    "valores_nulos"
   ]
  },
  {
   "cell_type": "code",
   "execution_count": 52,
   "id": "ce91ad7a",
   "metadata": {},
   "outputs": [],
   "source": [
    "# Si no hay datos, se rellena has_availability con \"Unknown\"\n",
    "df2[\"has_availability\"] =df2[\"has_availability\"].fillna(\"f\") "
   ]
  },
  {
   "cell_type": "code",
   "execution_count": 53,
   "id": "3ca03d8e",
   "metadata": {},
   "outputs": [
    {
     "data": {
      "text/plain": [
       "Unnamed: 0                                          0\n",
       "host_response_time                                  0\n",
       "host_response_rate                                  0\n",
       "host_acceptance_rate                                0\n",
       "host_is_superhost                                   0\n",
       "host_location                                       0\n",
       "host_has_profile_pic                                0\n",
       "host_identity_verified                              0\n",
       "neighbourhood_cleansed                              0\n",
       "latitude                                            0\n",
       "longitude                                           0\n",
       "property_type                                       0\n",
       "room_type                                           0\n",
       "accommodates                                        0\n",
       "bathrooms                                           0\n",
       "bedrooms                                            0\n",
       "beds                                                0\n",
       "price                                               0\n",
       "minimum_nights                                      0\n",
       "maximum_nights                                      0\n",
       "minimum_minimum_nights                              0\n",
       "maximum_minimum_nights                              0\n",
       "minimum_maximum_nights                              0\n",
       "maximum_maximum_nights                              0\n",
       "minimum_nights_avg_ntm                              0\n",
       "maximum_nights_avg_ntm                              0\n",
       "availability_30                                     0\n",
       "availability_60                                     0\n",
       "availability_90                                     0\n",
       "availability_365                                    0\n",
       "number_of_reviews                                   0\n",
       "number_of_reviews_ltm                               0\n",
       "number_of_reviews_l30d                              0\n",
       "number_of_reviews_ly                                0\n",
       "estimated_occupancy_l365d                           0\n",
       "estimated_revenue_l365d                             0\n",
       "review_scores_rating                            11151\n",
       "review_scores_accuracy                          11161\n",
       "review_scores_cleanliness                       11152\n",
       "review_scores_checkin                           11165\n",
       "review_scores_communication                     11157\n",
       "review_scores_location                          11168\n",
       "review_scores_value                             11167\n",
       "calculated_host_listings_count                      0\n",
       "calculated_host_listings_count_entire_homes         0\n",
       "calculated_host_listings_count_private_rooms        0\n",
       "calculated_host_listings_count_shared_rooms         0\n",
       "reviews_per_month                               11151\n",
       "amenities                                           0\n",
       "has_availability                                    0\n",
       "instant_bookable                                    0\n",
       "dtype: int64"
      ]
     },
     "execution_count": 53,
     "metadata": {},
     "output_type": "execute_result"
    }
   ],
   "source": [
    "valores_nulos=df2.isnull().sum()\n",
    "valores_nulos"
   ]
  },
  {
   "cell_type": "code",
   "execution_count": 54,
   "id": "b580845c",
   "metadata": {},
   "outputs": [],
   "source": [
    "#Si no hay respuesta en las resenas, se llena con 0 para indicar que no hay valores\n",
    "df2[\"review_scores_rating\"] = df2[\"review_scores_rating\"].fillna(0)\n",
    "df2[\"review_scores_accuracy\"] = df2[\"review_scores_accuracy\"].fillna(0)\n",
    "df2[\"review_scores_cleanliness\"] = df2[\"review_scores_cleanliness\"].fillna(0)\n",
    "df2[\"review_scores_checkin\"] = df2[\"review_scores_checkin\"].fillna(0)\n",
    "df2[\"review_scores_communication\"] = df2[\"review_scores_communication\"].fillna(0)\n",
    "df2[\"review_scores_location\"] = df2[\"review_scores_location\"].fillna(0)\n",
    "df2[\"review_scores_value\"] = df2[\"review_scores_value\"].fillna(0)\n",
    "df2[\"reviews_per_month\"] = df2[\"reviews_per_month\"].fillna(0)\n"
   ]
  },
  {
   "cell_type": "code",
   "execution_count": 55,
   "id": "c9ba1e95",
   "metadata": {},
   "outputs": [
    {
     "data": {
      "text/plain": [
       "Unnamed: 0                                      0\n",
       "host_response_time                              0\n",
       "host_response_rate                              0\n",
       "host_acceptance_rate                            0\n",
       "host_is_superhost                               0\n",
       "host_location                                   0\n",
       "host_has_profile_pic                            0\n",
       "host_identity_verified                          0\n",
       "neighbourhood_cleansed                          0\n",
       "latitude                                        0\n",
       "longitude                                       0\n",
       "property_type                                   0\n",
       "room_type                                       0\n",
       "accommodates                                    0\n",
       "bathrooms                                       0\n",
       "bedrooms                                        0\n",
       "beds                                            0\n",
       "price                                           0\n",
       "minimum_nights                                  0\n",
       "maximum_nights                                  0\n",
       "minimum_minimum_nights                          0\n",
       "maximum_minimum_nights                          0\n",
       "minimum_maximum_nights                          0\n",
       "maximum_maximum_nights                          0\n",
       "minimum_nights_avg_ntm                          0\n",
       "maximum_nights_avg_ntm                          0\n",
       "availability_30                                 0\n",
       "availability_60                                 0\n",
       "availability_90                                 0\n",
       "availability_365                                0\n",
       "number_of_reviews                               0\n",
       "number_of_reviews_ltm                           0\n",
       "number_of_reviews_l30d                          0\n",
       "number_of_reviews_ly                            0\n",
       "estimated_occupancy_l365d                       0\n",
       "estimated_revenue_l365d                         0\n",
       "review_scores_rating                            0\n",
       "review_scores_accuracy                          0\n",
       "review_scores_cleanliness                       0\n",
       "review_scores_checkin                           0\n",
       "review_scores_communication                     0\n",
       "review_scores_location                          0\n",
       "review_scores_value                             0\n",
       "calculated_host_listings_count                  0\n",
       "calculated_host_listings_count_entire_homes     0\n",
       "calculated_host_listings_count_private_rooms    0\n",
       "calculated_host_listings_count_shared_rooms     0\n",
       "reviews_per_month                               0\n",
       "amenities                                       0\n",
       "has_availability                                0\n",
       "instant_bookable                                0\n",
       "dtype: int64"
      ]
     },
     "execution_count": 55,
     "metadata": {},
     "output_type": "execute_result"
    }
   ],
   "source": [
    "valores_nulos=df2.isnull().sum()\n",
    "valores_nulos"
   ]
  },
  {
   "cell_type": "code",
   "execution_count": 56,
   "id": "33d98100",
   "metadata": {},
   "outputs": [],
   "source": [
    "df2.to_csv(\"Newyorksinnulos.csv\")"
   ]
  }
 ],
 "metadata": {
  "kernelspec": {
   "display_name": "Python 3",
   "language": "python",
   "name": "python3"
  },
  "language_info": {
   "codemirror_mode": {
    "name": "ipython",
    "version": 3
   },
   "file_extension": ".py",
   "mimetype": "text/x-python",
   "name": "python",
   "nbconvert_exporter": "python",
   "pygments_lexer": "ipython3",
   "version": "3.12.10"
  }
 },
 "nbformat": 4,
 "nbformat_minor": 5
}
